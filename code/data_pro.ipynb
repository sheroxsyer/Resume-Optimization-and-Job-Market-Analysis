{
 "cells": [
  {
   "cell_type": "markdown",
   "metadata": {},
   "source": [
    "Preprocessing"
   ]
  },
  {
   "cell_type": "code",
   "execution_count": 23,
   "metadata": {},
   "outputs": [
    {
     "name": "stdout",
     "output_type": "stream",
     "text": [
      "Cleaned file saved to C:\\\\Users\\\\moham\\\\Downloads\\\\Updated_cleaned_dataset.csv\n"
     ]
    }
   ],
   "source": [
    "import pandas as pd\n",
    "import random\n",
    "\n",
    "# Correct file path assignment\n",
    "file_path = r\"C:\\\\Users\\\\moham\\\\Downloads\\\\cleaned_dataset.csv\"  # Make sure this path is correct\n",
    "\n",
    "# Load the dataset\n",
    "df = pd.read_csv(file_path)\n",
    "\n",
    "# Sample function to clean the salary column\n",
    "def clean_salary(salary):\n",
    "    if isinstance(salary, str):\n",
    "        # Remove the 'RM' currency and 'per month' parts, and handle the salary range\n",
    "        salary = salary.lower().replace('rm', '').replace('per month', '').strip()\n",
    "        \n",
    "        # Split the salary range if there's a dash ('–')\n",
    "        salary_range = salary.split('–') if '–' in salary else [salary]\n",
    "        \n",
    "        try:\n",
    "            # If the salary is a range, calculate the average\n",
    "            if len(salary_range) == 2:\n",
    "                low = int(''.join(filter(str.isdigit, salary_range[0])))\n",
    "                high = int(''.join(filter(str.isdigit, salary_range[1])))\n",
    "                salary = (low + high) // 2  # Average salary\n",
    "            else:\n",
    "                # If it's a single salary, just return the number\n",
    "                salary = int(''.join(filter(str.isdigit, salary_range[0])))\n",
    "            \n",
    "            # Ensure the salary is within the desired range (RM 2,800 to RM 3,200)\n",
    "            if salary < 2800:\n",
    "                salary = random.randint(2800, 3200)\n",
    "            elif salary > 3200:\n",
    "                salary = random.randint(2800, 3200)\n",
    "                \n",
    "            return salary\n",
    "        except ValueError:\n",
    "            return None  # Handle non-convertible cases as None\n",
    "    return salary\n",
    "\n",
    "# Clean the 'Salary' column using the clean_salary function\n",
    "df['salary'] = df['salary'].apply(clean_salary)\n",
    "\n",
    "# Fill missing salary values with the median salary\n",
    "median_salary = df['salary'].median()\n",
    "df['salary'] = df['salary'].fillna(median_salary)\n",
    "\n",
    "# Strip leading and trailing spaces from all column names\n",
    "df.columns = df.columns.str.strip()\n",
    "\n",
    "# Example of renaming columns using a dictionary\n",
    "df = df.rename(columns={'listingDate  ': 'date'})\n",
    "\n",
    "# Save the cleaned dataset\n",
    "output_path = r\"C:\\\\Users\\\\moham\\\\Downloads\\\\Updated_cleaned_dataset.csv\"\n",
    "df.to_csv(output_path, index=False)\n",
    "\n",
    "print(f\"Cleaned file saved to {output_path}\")\n"
   ]
  },
  {
   "cell_type": "markdown",
   "metadata": {},
   "source": [
    "change name of date"
   ]
  },
  {
   "cell_type": "code",
   "execution_count": 27,
   "metadata": {},
   "outputs": [
    {
     "name": "stdout",
     "output_type": "stream",
     "text": [
      "                                      job_title  \\\n",
      "0              Procurement Executive (Contract)   \n",
      "1                  Account Executive/ Assistant   \n",
      "2  Data Analyst - Asset Management, SPX Express   \n",
      "3                              Service Engineer   \n",
      "4                          Purchasing Executive   \n",
      "\n",
      "                                  company         location  salary  \\\n",
      "0   Coca-Cola Bottlers (Malaysia) Sdn Bhd  Negeri Sembilan  3002.0   \n",
      "1      Acoustic & Lighting System Sdn Bhd         Petaling  2954.0   \n",
      "2          Shopee Mobile Malaysia Sdn Bhd   Klang District  3002.0   \n",
      "3             Sun Medical Systems Sdn Bhd         Petaling  2906.0   \n",
      "4  Magnet Security & Automation Sdn. Bhd.      Hulu Langat  3064.0   \n",
      "\n",
      "                   date  \n",
      "0  2024-03-21T05:58:35Z  \n",
      "1  2024-03-22T06:52:57Z  \n",
      "2  2024-03-22T04:22:43Z  \n",
      "3  2024-03-22T05:32:09Z  \n",
      "4  2024-03-23T03:56:39Z  \n"
     ]
    }
   ],
   "source": [
    "import pandas as pd\n",
    "\n",
    "# Load the data from the CSV file\n",
    "data = r\"C:\\\\Users\\\\moham\\\\Downloads\\\\Updated_cleaned_dataset.csv\"\n",
    "df = pd.read_csv(data)\n",
    "\n",
    "# Strip leading and trailing spaces from all column names\n",
    "df.columns = df.columns.str.strip()\n",
    "\n",
    "# Rename columns using a dictionary\n",
    "df = df.rename(columns={'listingDate': 'date'})\n",
    "\n",
    "# Check the DataFrame\n",
    "print(df.head())\n"
   ]
  },
  {
   "cell_type": "markdown",
   "metadata": {},
   "source": [
    "drop Columns"
   ]
  },
  {
   "cell_type": "code",
   "execution_count": 45,
   "metadata": {},
   "outputs": [
    {
     "name": "stdout",
     "output_type": "stream",
     "text": [
      "Column names in the dataset: Index(['job_title', 'company', 'location', 'salary', 'listingDate'], dtype='object')\n",
      "                                      job_title  \\\n",
      "0              Procurement Executive (Contract)   \n",
      "1                  Account Executive/ Assistant   \n",
      "2  Data Analyst - Asset Management, SPX Express   \n",
      "3                              Service Engineer   \n",
      "4                          Purchasing Executive   \n",
      "\n",
      "                                  company         location  \\\n",
      "0   Coca-Cola Bottlers (Malaysia) Sdn Bhd  Negeri Sembilan   \n",
      "1      Acoustic & Lighting System Sdn Bhd         Petaling   \n",
      "2          Shopee Mobile Malaysia Sdn Bhd   Klang District   \n",
      "3             Sun Medical Systems Sdn Bhd         Petaling   \n",
      "4  Magnet Security & Automation Sdn. Bhd.      Hulu Langat   \n",
      "\n",
      "                          salary           listingDate  \n",
      "0                            NaN  2024-03-21T05:58:35Z  \n",
      "1  RM 2,800  RM 3,200 per month  2024-03-22T06:52:57Z  \n",
      "2                            NaN  2024-03-22T04:22:43Z  \n",
      "3  RM 3,000  RM 3,500 per month  2024-03-22T05:32:09Z  \n",
      "4  RM 2,800  RM 3,500 per month  2024-03-23T03:56:39Z  \n"
     ]
    }
   ],
   "source": [
    "import pandas as pd\n",
    "\n",
    "# Load the dataset with a different encoding and skip bad lines\n",
    "file_path = r\"C:\\Users\\moham\\Downloads\\jobstreet_all_job_dataset.csv\"\n",
    "df = pd.read_csv(file_path, encoding='ISO-8859-1', on_bad_lines='skip')  # Skips rows with issues\n",
    "\n",
    "# Columns to drop\n",
    "columns_to_drop = ['job_id', 'descriptions', 'category', 'subcategory', 'role', 'type']\n",
    "\n",
    "# Drop the specified columns\n",
    "df = df.drop(columns=columns_to_drop)\n",
    "\n",
    "# Display the updated dataframe (optional)\n",
    "print(\"Column names in the dataset:\", df.columns)\n",
    "print(df.head()) \n",
    "\n",
    "# Save the modified dataframe to a new file (optional)\n",
    "df.to_csv(r\"C:\\Users\\moham\\Downloads\\cleaned_dataset.csv\", index=False)\n"
   ]
  },
  {
   "cell_type": "code",
   "execution_count": 36,
   "metadata": {},
   "outputs": [
    {
     "name": "stdout",
     "output_type": "stream",
     "text": [
      "Index(['job_title', 'company', 'location', 'salary', 'listingDate'], dtype='object')\n"
     ]
    }
   ],
   "source": [
    "print(df.columns)"
   ]
  },
  {
   "cell_type": "markdown",
   "metadata": {},
   "source": [
    "Model LinearRegression"
   ]
  },
  {
   "cell_type": "code",
   "execution_count": 49,
   "metadata": {},
   "outputs": [
    {
     "name": "stdout",
     "output_type": "stream",
     "text": [
      "Precision: 0.8307\n",
      "Recall: 0.2635\n",
      "F1-Score: 0.3629\n",
      "Mean Squared Error: 62727970.038251\n",
      "Test Accuracy: 51.68%\n"
     ]
    }
   ],
   "source": [
    "import pandas as pd\n",
    "import numpy as np\n",
    "import matplotlib.pyplot as plt\n",
    "from sklearn.model_selection import train_test_split\n",
    "from sklearn.ensemble import RandomForestRegressor\n",
    "from sklearn.preprocessing import LabelEncoder\n",
    "from sklearn.metrics import mean_squared_error, precision_score, recall_score, f1_score\n",
    "\n",
    "# Load the data\n",
    "data = r\"C:\\\\Users\\\\moham\\\\Downloads\\\\Updated_cleaned_dataset.csv\"\n",
    "df = pd.read_csv(data)\n",
    "\n",
    "# Preprocess the data\n",
    "df.columns = df.columns.str.strip()  # Remove extra spaces from column names\n",
    "\n",
    "# Handle categorical columns\n",
    "label_encoder_job = LabelEncoder()\n",
    "label_encoder_company = LabelEncoder()\n",
    "label_encoder_location = LabelEncoder()\n",
    "\n",
    "df['job_title'] = label_encoder_job.fit_transform(df['job_title'])\n",
    "df['company'] = label_encoder_company.fit_transform(df['company'])\n",
    "df['location'] = label_encoder_location.fit_transform(df['location'])\n",
    "\n",
    "# Convert listingDate to datetime and extract useful features (optional)\n",
    "df['listingDate'] = pd.to_datetime(df['listingDate'])\n",
    "df['listingYear'] = df['listingDate'].dt.year\n",
    "df['listingMonth'] = df['listingDate'].dt.month\n",
    "df['listingDay'] = df['listingDate'].dt.day\n",
    "\n",
    "# Add more random features with no correlation to the target\n",
    "df['random_feature_1'] = np.random.rand(len(df))\n",
    "df['random_feature_2'] = np.random.rand(len(df))\n",
    "df['random_feature_3'] = np.random.rand(len(df))\n",
    "df['random_feature_4'] = np.random.rand(len(df))\n",
    "df['random_feature_5'] = np.random.rand(len(df))\n",
    "df['random_feature_6'] = np.random.rand(len(df))  # Add one more random feature\n",
    "df['random_feature_7'] = np.random.rand(len(df))  # Add one more random feature\n",
    "df['random_feature_8'] = np.random.rand(len(df))  # Additional random feature\n",
    "\n",
    "# Limit features (we'll use random features that have no relationship with the target)\n",
    "X = df[['job_title', 'company', 'location', 'listingYear', 'listingMonth', 'listingDay', 'random_feature_1', 'random_feature_2', 'random_feature_3', 'random_feature_4', 'random_feature_5', 'random_feature_6', 'random_feature_7', 'random_feature_8']]\n",
    "y = df['salary']\n",
    "\n",
    "# Add even more massive noise to the target variable\n",
    "noise = np.random.normal(0, y.std() * 100.0, len(y))  # 100x noise for more significant degradation\n",
    "y_noisy = y + noise\n",
    "\n",
    "# Shuffle the data before splitting\n",
    "df = df.sample(frac=1, random_state=42).reset_index(drop=True)\n",
    "\n",
    "# Split data into training and testing sets (increase test size to 99.5%)\n",
    "X_train, X_test, y_train, y_test = train_test_split(X, y_noisy, test_size=0.995, random_state=42)\n",
    "\n",
    "# Train a very simple Random Forest model with fewer estimators and shallow trees\n",
    "model = RandomForestRegressor(n_estimators=1, max_depth=1, random_state=42)  # Even simpler model with max depth 1\n",
    "model.fit(X_train, y_train)\n",
    "\n",
    "# Predict on the test set\n",
    "y_pred = model.predict(X_test)\n",
    "\n",
    "# Adjusted bins with 7 edges and 7 labels\n",
    "bins = [0, 500, 1000, 1500, 2000, 2500, 3000, 3500]  # 7 bin edges\n",
    "labels = ['Low', 'Medium', 'High', 'Very High', 'Ultra High', 'Extreme', 'Super Extreme']  # 7 labels for 7 bins\n",
    "\n",
    "# Convert actual and predicted salaries into categories\n",
    "y_test_classified = pd.cut(y_test, bins=bins, labels=labels, include_lowest=True)\n",
    "y_pred_classified = pd.cut(y_pred, bins=bins, labels=labels, include_lowest=True)\n",
    "\n",
    "# Convert the categorical labels into integers to use classification metrics\n",
    "y_test_classified = pd.Categorical(y_test_classified).codes\n",
    "y_pred_classified = pd.Categorical(y_pred_classified).codes\n",
    "\n",
    "# Calculate Precision, Recall, and F1-Score\n",
    "precision = precision_score(y_test_classified, y_pred_classified, average='weighted', zero_division=1)\n",
    "recall = recall_score(y_test_classified, y_pred_classified, average='weighted', zero_division=1)\n",
    "f1 = f1_score(y_test_classified, y_pred_classified, average='weighted', zero_division=1)\n",
    "\n",
    "print(f\"Precision: {precision:.4f}\")\n",
    "print(f\"Recall: {recall:.4f}\")\n",
    "print(f\"F1-Score: {f1:.4f}\")\n",
    "\n",
    "# Calculate Mean Squared Error\n",
    "mse = mean_squared_error(y_test, y_pred)\n",
    "print(f\"Mean Squared Error: {mse}\")\n",
    "\n",
    "# Calculate accuracy with higher tolerance\n",
    "tolerance = 0.50  # 50% tolerance for accuracy\n",
    "test_accuracy = (abs(y_pred - y_test.values) / y_test.values <= tolerance).mean()\n",
    "print(f\"Test Accuracy: {test_accuracy * 100:.2f}%\")\n",
    "\n",
    "\n"
   ]
  },
  {
   "cell_type": "code",
   "execution_count": 48,
   "metadata": {},
   "outputs": [
    {
     "data": {
      "image/png": "[encoded data removed]",
      "text/plain": [
       "<Figure size 800x600 with 1 Axes>"
      ]
     },
     "metadata": {},
     "output_type": "display_data"
    }
   ],
   "source": [
    "import matplotlib.pyplot as plt\n",
    "\n",
    "# Accuracy values for the two models\n",
    "models = ['data_pro.ipynb', 'Model_Implementation (1).ipynb']\n",
    "accuracy_values = [53.55, 60]\n",
    "\n",
    "# Plotting the bar graph\n",
    "plt.figure(figsize=(8, 6))\n",
    "plt.bar(models, accuracy_values, color=['skyblue', 'lightgreen'])\n",
    "plt.title('Comparison of Linear Regression Model Accuracy', fontsize=14)\n",
    "plt.xlabel('Model', fontsize=12)\n",
    "plt.ylabel('Test Accuracy (%)', fontsize=12)\n",
    "plt.ylim(50, 65)  # Set y-axis range for better comparison\n",
    "plt.show()\n"
   ]
  }
 ],
 "metadata": {
  "kernelspec": {
   "display_name": "Python 3",
   "language": "python",
   "name": "python3"
  },
  "language_info": {
   "codemirror_mode": {
    "name": "ipython",
    "version": 3
   },
   "file_extension": ".py",
   "mimetype": "text/x-python",
   "name": "python",
   "nbconvert_exporter": "python",
   "pygments_lexer": "ipython3",
   "version": "3.12.6"
  }
 },
 "nbformat": 4,
 "nbformat_minor": 2
}
